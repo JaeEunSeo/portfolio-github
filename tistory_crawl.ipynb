{
 "cells": [
  {
   "cell_type": "code",
   "execution_count": 2,
   "metadata": {},
   "outputs": [],
   "source": [
    "import pandas as pd\n",
    "from bs4 import BeautifulSoup\n",
    "import requests"
   ]
  },
  {
   "cell_type": "code",
   "execution_count": 1,
   "metadata": {},
   "outputs": [],
   "source": [
    "def crawlPostings():\n",
    "    res = requests.get('https://summergurl.tistory.com/').text\n",
    "    soup = BeautifulSoup(res, 'lxml')\n",
    "    # 상위 3개 포스팅만 불러오기\n",
    "    posting_df = pd.DataFrame(columns=['title', 'img_url'])\n",
    "\n",
    "    post_list = soup.find('div', attrs={\"class\" : \"cover-thumbnail-1\"}).find_all('li')\n",
    "\n",
    "    for post in post_list[:3]:\n",
    "        title = post.find('span', 'title').text\n",
    "        thumbnail = post.find('img')['src']\n",
    "        thumbnail = thumbnail.partition('fname=')[2]\n",
    "        new_data = {\n",
    "            'title' : title, \n",
    "            'img_url' : thumbnail\n",
    "        }\n",
    "        posting_df = posting_df.append(new_data, ignore_index=True)\n",
    "\n",
    "    posting_df.to_json('postings.json')"
   ]
  },
  {
   "cell_type": "code",
   "execution_count": null,
   "metadata": {},
   "outputs": [],
   "source": [
    "import schedule\n",
    "schedule.every(1).weeks.do(crawlPostings())"
   ]
  }
 ],
 "metadata": {
  "kernelspec": {
   "display_name": "base",
   "language": "python",
   "name": "python3"
  },
  "language_info": {
   "codemirror_mode": {
    "name": "ipython",
    "version": 3
   },
   "file_extension": ".py",
   "mimetype": "text/x-python",
   "name": "python",
   "nbconvert_exporter": "python",
   "pygments_lexer": "ipython3",
   "version": "3.11.3"
  },
  "orig_nbformat": 4
 },
 "nbformat": 4,
 "nbformat_minor": 2
}
