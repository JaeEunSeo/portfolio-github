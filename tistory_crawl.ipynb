{
 "cells": [
  {
   "cell_type": "code",
   "execution_count": 1,
   "metadata": {},
   "outputs": [],
   "source": [
    "import pandas as pd\n",
    "from bs4 import BeautifulSoup\n",
    "import requests"
   ]
  },
  {
   "cell_type": "code",
   "execution_count": 2,
   "metadata": {},
   "outputs": [],
   "source": [
    "def crawlPostings():\n",
    "    res = requests.get('https://summergurl.tistory.com/').text\n",
    "    soup = BeautifulSoup(res, 'lxml')\n",
    "    # 상위 3개 포스팅만 불러오기\n",
    "    posting_df = pd.DataFrame(columns=['title', 'img_url', 'url'])\n",
    "\n",
    "    post_list = soup.find_all('div', attrs={\"class\" : \"inner\"})[1].find_all('div', attrs={\"class\":\"post-item\"})\n",
    "\n",
    "    for post in post_list[:3]:\n",
    "        title = post.find('span', 'title').text\n",
    "        thumbnail = post.find('img')['src']\n",
    "        thumbnail = thumbnail.partition('fname=')[2]\n",
    "        postNum = post.find('a').attrs['href']\n",
    "        new_data = {\n",
    "            'title' : title, \n",
    "            'img_url' : thumbnail, \n",
    "            'url': 'https://summergurl.tistory.com' + postNum\n",
    "        }\n",
    "        posting_df = posting_df.append(new_data, ignore_index=True)\n",
    "    print(posting_df)\n",
    "    posting_df.to_json('postings.json')"
   ]
  },
  {
   "cell_type": "code",
   "execution_count": 3,
   "metadata": {},
   "outputs": [
    {
     "name": "stdout",
     "output_type": "stream",
     "text": [
      "                           title  \\\n",
      "0  [자료구조] 우선순위 큐 (파이썬 heapq 사용법)   \n",
      "1  [프로그래머스] lv3. 순위 (파이썬 Python)   \n",
      "2            [백준] 🥈10816번 숫자 카드2   \n",
      "\n",
      "                                             img_url  \\\n",
      "0  https://blog.kakaocdn.net/dn/dNo2tu/btsHYaNqYw...   \n",
      "1  https://blog.kakaocdn.net/dn/c3xE6s/btsHHji67o...   \n",
      "2  https://blog.kakaocdn.net/dn/dqVnDs/btsHngms8q...   \n",
      "\n",
      "                                 url  \n",
      "0  https://summergurl.tistory.com/22  \n",
      "1  https://summergurl.tistory.com/21  \n",
      "2  https://summergurl.tistory.com/20  \n"
     ]
    },
    {
     "name": "stderr",
     "output_type": "stream",
     "text": [
      "/var/folders/hz/z_fyyvx92vzdtqhksp3vvn9m0000gn/T/ipykernel_79348/3211969256.py:19: FutureWarning: The frame.append method is deprecated and will be removed from pandas in a future version. Use pandas.concat instead.\n",
      "  posting_df = posting_df.append(new_data, ignore_index=True)\n",
      "/var/folders/hz/z_fyyvx92vzdtqhksp3vvn9m0000gn/T/ipykernel_79348/3211969256.py:19: FutureWarning: The frame.append method is deprecated and will be removed from pandas in a future version. Use pandas.concat instead.\n",
      "  posting_df = posting_df.append(new_data, ignore_index=True)\n",
      "/var/folders/hz/z_fyyvx92vzdtqhksp3vvn9m0000gn/T/ipykernel_79348/3211969256.py:19: FutureWarning: The frame.append method is deprecated and will be removed from pandas in a future version. Use pandas.concat instead.\n",
      "  posting_df = posting_df.append(new_data, ignore_index=True)\n"
     ]
    }
   ],
   "source": [
    "crawlPostings()"
   ]
  },
  {
   "cell_type": "code",
   "execution_count": 4,
   "metadata": {},
   "outputs": [
    {
     "data": {
      "text/plain": [
       "Every 1 week do <lambda>() (last run: [never], next run: 2024-07-18 14:18:32)"
      ]
     },
     "execution_count": 4,
     "metadata": {},
     "output_type": "execute_result"
    }
   ],
   "source": [
    "import schedule\n",
    "schedule.every(1).weeks.do(lambda : crawlPostings())"
   ]
  },
  {
   "cell_type": "code",
   "execution_count": null,
   "metadata": {},
   "outputs": [],
   "source": []
  }
 ],
 "metadata": {
  "kernelspec": {
   "display_name": "base",
   "language": "python",
   "name": "python3"
  },
  "language_info": {
   "codemirror_mode": {
    "name": "ipython",
    "version": 3
   },
   "file_extension": ".py",
   "mimetype": "text/x-python",
   "name": "python",
   "nbconvert_exporter": "python",
   "pygments_lexer": "ipython3",
   "version": "3.11.3"
  },
  "orig_nbformat": 4
 },
 "nbformat": 4,
 "nbformat_minor": 2
}
