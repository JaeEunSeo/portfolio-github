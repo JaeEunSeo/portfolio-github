{
 "cells": [
  {
   "cell_type": "code",
   "execution_count": 3,
   "metadata": {},
   "outputs": [],
   "source": [
    "import pandas as pd\n",
    "from bs4 import BeautifulSoup\n",
    "import requests"
   ]
  },
  {
   "cell_type": "code",
   "execution_count": 4,
   "metadata": {},
   "outputs": [],
   "source": [
    "def crawlPostings():\n",
    "    res = requests.get('https://summergurl.tistory.com/').text\n",
    "    soup = BeautifulSoup(res, 'lxml')\n",
    "    # 상위 3개 포스팅만 불러오기\n",
    "    posting_df = pd.DataFrame(columns=['title', 'img_url', 'url'])\n",
    "\n",
    "    post_list = soup.find_all('div', attrs={\"class\" : \"inner\"})[1].find_all('div', attrs={\"class\":\"post-item\"})\n",
    "\n",
    "    for post in post_list[:3]:\n",
    "        title = post.find('span', 'title').text\n",
    "        thumbnail = post.find('img')['src']\n",
    "        thumbnail = thumbnail.partition('fname=')[2]\n",
    "        postNum = post.find('a').attrs['href']\n",
    "        new_data = {\n",
    "            'title' : title, \n",
    "            'img_url' : thumbnail, \n",
    "            'url': 'https://summergurl.tistory.com' + postNum\n",
    "        }\n",
    "        posting_df = posting_df.append(new_data, ignore_index=True)\n",
    "    print(posting_df)\n",
    "    posting_df.to_json('postings.json')"
   ]
  },
  {
   "cell_type": "code",
   "execution_count": 5,
   "metadata": {},
   "outputs": [
    {
     "name": "stdout",
     "output_type": "stream",
     "text": [
      "                                               title  \\\n",
      "0  [RecSys] RecVAE: a New Variational Autoencoder...   \n",
      "1  [부스트캠프 AI Tech] RecSys Level 02 - Movie Recomm...   \n",
      "2         [부스트캠프 AI Tech] RecSys 도메인 Level 01 KPT 회고   \n",
      "\n",
      "                                             img_url  \\\n",
      "0  https://blog.kakaocdn.net/dn/duoNtE/btsLbxlFqn...   \n",
      "1  https://blog.kakaocdn.net/dn/KkD1W/btsK34vlOfK...   \n",
      "2  https://blog.kakaocdn.net/dn/ciJKPD/btsJRzb858...   \n",
      "\n",
      "                                 url  \n",
      "0  https://summergurl.tistory.com/26  \n",
      "1  https://summergurl.tistory.com/25  \n",
      "2  https://summergurl.tistory.com/24  \n"
     ]
    },
    {
     "name": "stderr",
     "output_type": "stream",
     "text": [
      "/var/folders/hz/z_fyyvx92vzdtqhksp3vvn9m0000gn/T/ipykernel_30103/3211969256.py:19: FutureWarning: The frame.append method is deprecated and will be removed from pandas in a future version. Use pandas.concat instead.\n",
      "  posting_df = posting_df.append(new_data, ignore_index=True)\n",
      "/var/folders/hz/z_fyyvx92vzdtqhksp3vvn9m0000gn/T/ipykernel_30103/3211969256.py:19: FutureWarning: The frame.append method is deprecated and will be removed from pandas in a future version. Use pandas.concat instead.\n",
      "  posting_df = posting_df.append(new_data, ignore_index=True)\n",
      "/var/folders/hz/z_fyyvx92vzdtqhksp3vvn9m0000gn/T/ipykernel_30103/3211969256.py:19: FutureWarning: The frame.append method is deprecated and will be removed from pandas in a future version. Use pandas.concat instead.\n",
      "  posting_df = posting_df.append(new_data, ignore_index=True)\n"
     ]
    }
   ],
   "source": [
    "crawlPostings()"
   ]
  }
 ],
 "metadata": {
  "kernelspec": {
   "display_name": "base",
   "language": "python",
   "name": "python3"
  },
  "language_info": {
   "codemirror_mode": {
    "name": "ipython",
    "version": 3
   },
   "file_extension": ".py",
   "mimetype": "text/x-python",
   "name": "python",
   "nbconvert_exporter": "python",
   "pygments_lexer": "ipython3",
   "version": "3.11.3"
  },
  "orig_nbformat": 4
 },
 "nbformat": 4,
 "nbformat_minor": 2
}
